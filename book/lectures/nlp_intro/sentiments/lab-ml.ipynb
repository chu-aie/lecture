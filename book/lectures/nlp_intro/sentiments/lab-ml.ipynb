{
 "cells": [
  {
   "attachments": {},
   "cell_type": "markdown",
   "id": "503a266b",
   "metadata": {
    "slideshow": {
     "slide_type": "slide"
    },
    "tags": []
   },
   "source": [
    "## Sentiment Classification in Practice\n",
    "\n",
    "**Sentiment classification of reviews**\n",
    "\n",
    "- Classification of the nominal sentiment polarity or score of a customer review on a product, service, or work of art.\n",
    "\n",
    "**Data**\n",
    "\n",
    "- 2100 English hotel reviews from TripAdvisor.\n",
    "  900 training, 600 validation, and 600 test reviews.\n",
    "- Each review has a sentiment score from {1, ..., 5}.\n",
    "\n",
    "![](figs/7.png)\n"
   ]
  },
  {
   "cell_type": "markdown",
   "id": "a91da6f4",
   "metadata": {
    "slideshow": {
     "slide_type": "slide"
    },
    "tags": []
   },
   "source": [
    "**Tasks**\n",
    "\n",
    "- 3-class sentiment: 1–2 mapped to negative, 3 to neutral, 4–5 to positive.\n",
    "  Training set balanced with random undersampling.\n",
    "- 5-class sentiment: each score interpreted as one (nominal) class.\n",
    "\n",
    "**Approach**\n",
    "\n",
    "- Algorithm: linear SVM with one-versus-all multi-class handling.\n",
    "- Features: combination of several standard and specific feature types.\n"
   ]
  },
  {
   "attachments": {},
   "cell_type": "markdown",
   "id": "23b028e9",
   "metadata": {
    "slideshow": {
     "slide_type": "slide"
    },
    "tags": []
   },
   "source": [
    "### Feature Engineering\n",
    "\n",
    "**What is feature engineering?**\n",
    "\n",
    "- The design and development of the feature representation of instances used to address a given task.\n",
    "- The representation governs what patterns can be found during learning.\n",
    "\n",
    "**Standard vs. specific features**\n",
    "\n",
    "- Standard: features that can be derived from (more or less) general linguistic phenomena and that may help in several tasks.\n",
    "- Specific: features that are engineered for a specific tasks, usually based on expert knowledge about the task.\n",
    "\n",
    "Features covered here\n",
    "\n",
    "- Standard content features: token n-grams, target class features.\n",
    "- Standard style features: POS and phrase n-grams, stylometric features.\n",
    "- Specific features: local sentiment, discourse relations, flow patterns.\n"
   ]
  },
  {
   "attachments": {},
   "cell_type": "markdown",
   "id": "cb197fb3",
   "metadata": {
    "slideshow": {
     "slide_type": "slide"
    },
    "tags": []
   },
   "source": [
    "**Some General Linguistic Phenomena**\n",
    "\n",
    "![](figs/8.png)\n"
   ]
  },
  {
   "cell_type": "markdown",
   "id": "41a86051",
   "metadata": {
    "slideshow": {
     "slide_type": "slide"
    },
    "tags": []
   },
   "source": [
    "#### Standard Content Feature Types\n",
    "\n",
    "**Token n-grams**\n",
    "\n",
    "- Token unigrams (bag-of-words): the distribution of all token 1-grams that occur in at least 5% of all training texts.\n",
    "- Token bigrams/trigrams\n",
    "\n",
    "**Target class features**\n",
    "\n",
    "- Core vocabulary: the distribution of all words that occur at least three times as often in one class as in every other.\n",
    "- Sentiment scores: the mean positivity, negativity, and objectivity of all first and average word senses in SentiWordNet.\n",
    "- Sentiment words: the distribution of all subjective words in SentiWordNet.\n"
   ]
  },
  {
   "attachments": {},
   "cell_type": "markdown",
   "id": "978aa802",
   "metadata": {
    "slideshow": {
     "slide_type": "slide"
    },
    "tags": []
   },
   "source": [
    "#### Standard Style Feature Types\n",
    "\n",
    "**Part-of-speech (POS) tag n-grams**\n",
    "\n",
    "- POS unigrams. The distribution of all part-of-speech 1-grams that occur in at least 5% of all training texts.\n",
    "- POS bigrams/trigrams. Analog for 2-grams and 3-grams.\n",
    "\n",
    "**Phrase type n-grams**\n",
    "\n",
    "- Phrase unigrams. The distribution of all phrase type 1-grams that occur in at least 5% of all training texts.\n",
    "- Phrase bigrams/trigrams. Analog for 2-grams and 3-grams.\n",
    "\n",
    "**Stylometric features**\n",
    "\n",
    "- Character trigrams. The distribution of all character 3-grams that occur in at least 5% of all training texts.\n",
    "- Function words. The distribution of the top 100 words in the training set.\n",
    "- Lexical statistics. Average numbers of tokens, clauses, and sentences.\n"
   ]
  },
  {
   "attachments": {},
   "cell_type": "markdown",
   "id": "1d6b0b2c",
   "metadata": {
    "slideshow": {
     "slide_type": "slide"
    },
    "tags": []
   },
   "source": [
    "#### Evaluation of the Standard Feature Types\n",
    "\n",
    "![](figs/11.png)\n"
   ]
  },
  {
   "cell_type": "markdown",
   "id": "a6b4ca3a",
   "metadata": {
    "slideshow": {
     "slide_type": "slide"
    },
    "tags": []
   },
   "source": [
    "**Evaluation**\n",
    "\n",
    "- One linear SVM for each feature type alone and for their combination.\n",
    "- Training on training set, tuning on validation set, test on test set.\n",
    "\n",
    "**Discussion**\n",
    "\n",
    "- Token unigrams: best, but some other types close.\n",
    "- Combination does not outperform best single feature type.\n",
    "- 60.8% accuracy does not seem very good.\n"
   ]
  },
  {
   "cell_type": "markdown",
   "id": "15fc83e1",
   "metadata": {
    "slideshow": {
     "slide_type": "slide"
    },
    "tags": []
   },
   "source": [
    "#### Review Argumentation\n",
    "\n",
    "**Example hotel review**\n",
    "\n",
    "“We spent one night at that hotel. Staff at the front desk was very nice, the room was clean and cozy, and the hotel lies in the city center... but all this never justifies the price, which is outrageous!”\n",
    "\n",
    "![](figs/12.png)\n",
    "\n",
    "**A shallow model of review argumentation**\n",
    "\n",
    "- A review can be seen as a flow of local sentiments on domain concepts that are connected by discourse relations.\n"
   ]
  },
  {
   "cell_type": "markdown",
   "id": "319cc481",
   "metadata": {
    "slideshow": {
     "slide_type": "slide"
    },
    "tags": []
   },
   "source": [
    "#### Specific Feature Types for Review Sentiment Analysis\n",
    "\n",
    "**Local sentiment distribution**\n",
    "\n",
    "- The frequencies of positive, neutral, and negative local sentiment as well as of changes of local sentiments.\n",
    "\n",
    "  > positive 0.4 neutral 0.4 negative 0.2 (neutral, positive) 0.25 ...\n",
    "\n",
    "- The average local sentiment value from 0.0 (negative) to 1.0 (positive).\n",
    "\n",
    "  > average sentiment 0.6\n",
    "\n",
    "- The interpolated local sentiment at each normalized position in the text.\n",
    "  > e.g., normalization length 9: (0.5, 0.75, 1.0, 1.0, 1.0, 0.75, 0.5, 0.25, 0.0)\n"
   ]
  },
  {
   "attachments": {},
   "cell_type": "markdown",
   "id": "aec9e5cb",
   "metadata": {
    "slideshow": {
     "slide_type": "slide"
    },
    "tags": []
   },
   "source": [
    "**Discourse relation distribution**\n",
    "\n",
    "- The distribution of discourse relation types in the text.\n",
    "\n",
    "  > background 0.25 elaboration 0.5 contrast 0.25 (all others 0.0)\n",
    "\n",
    "- The distribution of combinations of relation types and local sentiments.\n",
    "\n",
    "  > background(neutral, positive) 0.25 elaboration(positive, positive) 0.25 ...\n"
   ]
  },
  {
   "cell_type": "markdown",
   "id": "167e8465",
   "metadata": {
    "slideshow": {
     "slide_type": "slide"
    },
    "tags": []
   },
   "source": [
    "**Sentiment flow patterns**\n",
    "\n",
    "- The similarity of the normalized flow of the text to each flow pattern.\n",
    "\n",
    "![](figs/13.png)\n",
    "\n",
    "**Content and style features**\n",
    "\n",
    "- Content: token n-grams, sentiment scores.\n",
    "- Style: part-of-speech n-grams, character trigrams, lexical statistics.\n"
   ]
  },
  {
   "attachments": {},
   "cell_type": "markdown",
   "id": "a6872fa0",
   "metadata": {
    "slideshow": {
     "slide_type": "slide"
    },
    "tags": []
   },
   "source": [
    "#### Evaluation of the Specific Feature Types\n",
    "\n",
    "![](figs/14.png)\n"
   ]
  },
  {
   "attachments": {},
   "cell_type": "markdown",
   "id": "0f88edf1",
   "metadata": {
    "slideshow": {
     "slide_type": "slide"
    },
    "tags": []
   },
   "source": [
    "**Evaluation**\n",
    "\n",
    "- One linear SVM for each feature type alone and for their combination.\n",
    "- Training on training set, tuning on validation set, test on test set.\n",
    "- Both 3-class and 5-class.\n",
    "\n",
    "**Cost hyperparameter tuning**\n",
    "\n",
    "- Tested $C$ values. 0.001, 0.01, 0.1, 1.0, 50.0\n",
    "- Best $C$ used on test set.\n",
    "- Results shown here for the 3-class task only.\n"
   ]
  },
  {
   "attachments": {},
   "cell_type": "markdown",
   "id": "93c1d84b",
   "metadata": {
    "slideshow": {
     "slide_type": "slide"
    },
    "tags": []
   },
   "source": [
    "#### Results and Discussion for the Specific Features\n",
    "\n",
    "**Effectiveness results on test set (accuracy)**\n",
    "\n",
    "![](figs/15.png)\n"
   ]
  },
  {
   "cell_type": "markdown",
   "id": "c0d0e362",
   "metadata": {
    "slideshow": {
     "slide_type": "slide"
    },
    "tags": []
   },
   "source": [
    "**Discussion**\n",
    "\n",
    "- Content and style features: a bit weaker than in the experiment above, due to slight differences in the experiment setting.\n",
    "- Sentiment ﬂow patterns: impact is more visible across domains.\n",
    "- Combination of features: works out this time, so more complementary.\n",
    "- The 5-class accuracy seems insufficient.\n",
    "- Classification misses to model the ordinal relation between classes; regression might be better.\n"
   ]
  },
  {
   "cell_type": "code",
   "execution_count": null,
   "id": "c4173dc3",
   "metadata": {},
   "outputs": [],
   "source": []
  }
 ],
 "metadata": {
  "kernelspec": {
   "display_name": "Python 3 (ipykernel)",
   "language": "python",
   "name": "python3"
  },
  "language_info": {
   "codemirror_mode": {
    "name": "ipython",
    "version": 3
   },
   "file_extension": ".py",
   "mimetype": "text/x-python",
   "name": "python",
   "nbconvert_exporter": "python",
   "pygments_lexer": "ipython3",
   "version": "3.8.12"
  },
  "vscode": {
   "interpreter": {
    "hash": "d4d1e4263499bec80672ea0156c357c1ee493ec2b1c70f0acce89fc37c4a6abe"
   }
  }
 },
 "nbformat": 4,
 "nbformat_minor": 5
}
