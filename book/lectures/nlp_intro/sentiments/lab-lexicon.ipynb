{
 "cells": [
  {
   "attachments": {},
   "cell_type": "markdown",
   "id": "f175c4e0",
   "metadata": {
    "slideshow": {
     "slide_type": "slide"
    },
    "tags": []
   },
   "source": [
    "## Lexicon-based Methods in Practice\n"
   ]
  },
  {
   "cell_type": "code",
   "execution_count": 1,
   "id": "63fe3370",
   "metadata": {},
   "outputs": [],
   "source": [
    "%pip install ekorpkit\n",
    "from ekorpkit.models.metrics import evaluate_classification_performance"
   ]
  },
  {
   "cell_type": "code",
   "execution_count": 4,
   "id": "35a5cd22",
   "metadata": {},
   "outputs": [
    {
     "name": "stdout",
     "output_type": "stream",
     "text": [
      "#review count: 2000\n",
      "#samples of file ids: ['neg/cv000_29416.txt', 'neg/cv001_19502.txt', 'neg/cv002_17424.txt', 'neg/cv003_12683.txt', 'neg/cv004_12641.txt', 'neg/cv005_29357.txt', 'neg/cv006_17022.txt', 'neg/cv007_4992.txt', 'neg/cv008_29326.txt', 'neg/cv009_29417.txt']\n",
      "#categories of reviews: ['neg', 'pos']\n",
      "#num of \"neg\" reviews: 1000\n",
      "#num of \"pos\" reviews: 1000\n",
      "#id of the first review: neg/cv000_29416.txt\n",
      "#part of the first review: plot : two teen couples go to a church party , drink and then drive . \n",
      "they get into an accident . \n",
      "one of the guys dies , but his girlfriend continues to see him in her life , and has nightmares . \n",
      "what's the deal ? \n",
      "watch the movie and \" sorta \" find out . . . \n",
      "critique : a mind-fuck movie for the teen generation that touches on a very cool idea , but presents it in a very bad package . \n",
      "which is what makes this review an even harder one to write , since i generally applaud films which attempt\n",
      "#sentiment of the first review: ['neg']\n"
     ]
    },
    {
     "name": "stderr",
     "output_type": "stream",
     "text": [
      "[nltk_data] Downloading package movie_reviews to /root/nltk_data...\n",
      "[nltk_data]   Package movie_reviews is already up-to-date!\n"
     ]
    }
   ],
   "source": [
    "import nltk\n",
    "\n",
    "nltk.download(\"movie_reviews\")\n",
    "\n",
    "from nltk.corpus import movie_reviews\n",
    "\n",
    "print(\"#review count:\", len(movie_reviews.fileids()))\n",
    "print(\"#samples of file ids:\", movie_reviews.fileids()[:10])\n",
    "print(\"#categories of reviews:\", movie_reviews.categories())\n",
    "print('#num of \"neg\" reviews:', len(movie_reviews.fileids(categories=\"neg\")))\n",
    "print('#num of \"pos\" reviews:', len(movie_reviews.fileids(categories=\"pos\")))\n",
    "\n",
    "fileid = movie_reviews.fileids()[0]\n",
    "print(\"#id of the first review:\", fileid)\n",
    "print(\"#part of the first review:\", movie_reviews.raw(fileid)[:500])\n",
    "print(\"#sentiment of the first review:\", movie_reviews.categories(fileid))\n",
    "\n",
    "fileids = movie_reviews.fileids()\n",
    "reviews = [movie_reviews.raw(fileid) for fileid in fileids]\n",
    "categories = [movie_reviews.categories(fileid)[0] for fileid in fileids]\n"
   ]
  },
  {
   "attachments": {},
   "cell_type": "markdown",
   "id": "00824666",
   "metadata": {
    "slideshow": {
     "slide_type": "slide"
    },
    "tags": []
   },
   "source": [
    "### TextBlob\n",
    "\n",
    "- https://textblob.readthedocs.io/en/dev/quickstart.html\n"
   ]
  },
  {
   "cell_type": "code",
   "execution_count": 7,
   "id": "0fc1d774",
   "metadata": {},
   "outputs": [],
   "source": [
    "%%capture\n",
    "%pip install -U textblob"
   ]
  },
  {
   "cell_type": "code",
   "execution_count": 5,
   "id": "4a1b699f",
   "metadata": {},
   "outputs": [
    {
     "name": "stdout",
     "output_type": "stream",
     "text": [
      "Sentiment(polarity=0.06479782948532947, subjectivity=0.5188408350908352)\n"
     ]
    }
   ],
   "source": [
    "from textblob import TextBlob\n",
    "\n",
    "result = TextBlob(reviews[0])\n",
    "print(result.sentiment)"
   ]
  },
  {
   "cell_type": "code",
   "execution_count": 6,
   "id": "99ff08d2",
   "metadata": {},
   "outputs": [],
   "source": [
    "def sentiment_TextBlob(docs):\n",
    "    results = []\n",
    "\n",
    "    for doc in docs:\n",
    "        testimonial = TextBlob(doc)\n",
    "        if testimonial.sentiment.polarity > 0:\n",
    "            results.append(\"pos\")\n",
    "        else:\n",
    "            results.append(\"neg\")\n",
    "    return results\n",
    "\n",
    "\n",
    "predictions = sentiment_TextBlob(reviews)\n"
   ]
  },
  {
   "cell_type": "code",
   "execution_count": 7,
   "id": "87a616d4",
   "metadata": {
    "slideshow": {
     "slide_type": "slide"
    },
    "tags": []
   },
   "outputs": [
    {
     "name": "stdout",
     "output_type": "stream",
     "text": [
      "Accuracy:  0.6\n",
      "Precison:  0.7225010902553423\n",
      "Recall:  0.6\n",
      "F1 Score:  0.5361560556566348\n",
      "Model Report: \n",
      "___________________________________________________\n",
      "              precision    recall  f1-score   support\n",
      "\n",
      "         neg       0.89      0.23      0.36      1000\n",
      "         pos       0.56      0.97      0.71      1000\n",
      "\n",
      "    accuracy                           0.60      2000\n",
      "   macro avg       0.72      0.60      0.54      2000\n",
      "weighted avg       0.72      0.60      0.54      2000\n",
      "\n"
     ]
    }
   ],
   "source": [
    "cm = evaluate_classification_performance(categories, predictions)"
   ]
  },
  {
   "attachments": {},
   "cell_type": "markdown",
   "id": "9ec2388e",
   "metadata": {
    "slideshow": {
     "slide_type": "slide"
    },
    "tags": []
   },
   "source": [
    "### AFINN\n",
    "\n",
    "- https://github.com/fnielsen/afinn\n",
    "- http://corpustext.com/reference/sentiment_afinn.html\n"
   ]
  },
  {
   "cell_type": "code",
   "execution_count": 14,
   "id": "173bfd3b",
   "metadata": {},
   "outputs": [],
   "source": [
    "%%capture\n",
    "%pip install afinn"
   ]
  },
  {
   "cell_type": "code",
   "execution_count": 8,
   "id": "9bf3db8f",
   "metadata": {},
   "outputs": [],
   "source": [
    "from afinn import Afinn\n",
    "\n",
    "\n",
    "def sentiment_Afinn(docs):\n",
    "    afn = Afinn(emoticons=True)\n",
    "    results = []\n",
    "\n",
    "    for doc in docs:\n",
    "        if afn.score(doc) > 0:\n",
    "            results.append(\"pos\")\n",
    "        else:\n",
    "            results.append(\"neg\")\n",
    "    return results\n"
   ]
  },
  {
   "cell_type": "code",
   "execution_count": 9,
   "id": "4be2bdfc",
   "metadata": {
    "slideshow": {
     "slide_type": "slide"
    },
    "tags": []
   },
   "outputs": [
    {
     "name": "stdout",
     "output_type": "stream",
     "text": [
      "Accuracy:  0.664\n",
      "Precison:  0.6783880680137142\n",
      "Recall:  0.664\n",
      "F1 Score:  0.6570854714462421\n",
      "Model Report: \n",
      "___________________________________________________\n",
      "              precision    recall  f1-score   support\n",
      "\n",
      "         neg       0.73      0.52      0.61      1000\n",
      "         pos       0.63      0.81      0.71      1000\n",
      "\n",
      "    accuracy                           0.66      2000\n",
      "   macro avg       0.68      0.66      0.66      2000\n",
      "weighted avg       0.68      0.66      0.66      2000\n",
      "\n"
     ]
    }
   ],
   "source": [
    "predictions = sentiment_Afinn(reviews)\n",
    "cm = evaluate_classification_performance(categories, predictions)"
   ]
  },
  {
   "attachments": {},
   "cell_type": "markdown",
   "id": "77ffc836",
   "metadata": {
    "slideshow": {
     "slide_type": "slide"
    },
    "tags": []
   },
   "source": [
    "### VADER\n",
    "\n",
    "- https://github.com/cjhutto/vaderSentiment\n"
   ]
  },
  {
   "cell_type": "code",
   "execution_count": 10,
   "id": "f2f2a403",
   "metadata": {},
   "outputs": [
    {
     "name": "stderr",
     "output_type": "stream",
     "text": [
      "[nltk_data] Downloading package vader_lexicon to /root/nltk_data...\n",
      "[nltk_data]   Package vader_lexicon is already up-to-date!\n"
     ]
    }
   ],
   "source": [
    "%%capture\n",
    "import nltk\n",
    "nltk.download('vader_lexicon')"
   ]
  },
  {
   "cell_type": "code",
   "execution_count": 11,
   "id": "77c37d79",
   "metadata": {},
   "outputs": [],
   "source": [
    "from nltk.sentiment.vader import SentimentIntensityAnalyzer\n",
    "\n",
    "\n",
    "def sentiment_vader(docs):\n",
    "    analyser = SentimentIntensityAnalyzer()\n",
    "    results = []\n",
    "\n",
    "    for doc in docs:\n",
    "        score = analyser.polarity_scores(doc)\n",
    "        if score[\"compound\"] > 0:\n",
    "            results.append(\"pos\")\n",
    "        else:\n",
    "            results.append(\"neg\")\n",
    "\n",
    "    return results\n"
   ]
  },
  {
   "cell_type": "code",
   "execution_count": 12,
   "id": "982b4da5",
   "metadata": {
    "slideshow": {
     "slide_type": "slide"
    },
    "tags": []
   },
   "outputs": [
    {
     "name": "stdout",
     "output_type": "stream",
     "text": [
      "Accuracy:  0.635\n",
      "Precison:  0.6580655585685583\n",
      "Recall:  0.635\n",
      "F1 Score:  0.6211802777111816\n",
      "Model Report: \n",
      "___________________________________________________\n",
      "              precision    recall  f1-score   support\n",
      "\n",
      "         neg       0.72      0.44      0.55      1000\n",
      "         pos       0.60      0.83      0.69      1000\n",
      "\n",
      "    accuracy                           0.64      2000\n",
      "   macro avg       0.66      0.64      0.62      2000\n",
      "weighted avg       0.66      0.64      0.62      2000\n",
      "\n"
     ]
    }
   ],
   "source": [
    "predictions = sentiment_vader(reviews)\n",
    "cm = evaluate_classification_performance(categories, predictions)"
   ]
  },
  {
   "cell_type": "code",
   "execution_count": null,
   "id": "c4173dc3",
   "metadata": {},
   "outputs": [],
   "source": []
  }
 ],
 "metadata": {
  "kernelspec": {
   "display_name": "Python 3 (ipykernel)",
   "language": "python",
   "name": "python3"
  },
  "language_info": {
   "codemirror_mode": {
    "name": "ipython",
    "version": 3
   },
   "file_extension": ".py",
   "mimetype": "text/x-python",
   "name": "python",
   "nbconvert_exporter": "python",
   "pygments_lexer": "ipython3",
   "version": "3.8.12"
  },
  "vscode": {
   "interpreter": {
    "hash": "d4d1e4263499bec80672ea0156c357c1ee493ec2b1c70f0acce89fc37c4a6abe"
   }
  }
 },
 "nbformat": 4,
 "nbformat_minor": 5
}
